{
  "nbformat": 4,
  "nbformat_minor": 0,
  "metadata": {
    "colab": {
      "provenance": []
    },
    "kernelspec": {
      "name": "python3",
      "display_name": "Python 3"
    },
    "language_info": {
      "name": "python"
    }
  },
  "cells": [
    {
      "cell_type": "code",
      "execution_count": 12,
      "metadata": {
        "colab": {
          "base_uri": "https://localhost:8080/"
        },
        "id": "QvskfZk6YMt1",
        "outputId": "a101a02d-cf3a-4e37-ff87-02b00142b28c"
      },
      "outputs": [
        {
          "output_type": "stream",
          "name": "stdout",
          "text": [
            "Confusion Matrix:\n",
            "[[952  13]\n",
            " [ 11 139]]\n"
          ]
        }
      ],
      "source": [
        "import pandas as pd\n",
        "from sklearn.feature_extraction.text import CountVectorizer\n",
        "from sklearn.model_selection import train_test_split\n",
        "from sklearn.naive_bayes import MultinomialNB\n",
        "from sklearn.metrics import classification_report, confusion_matrix\n",
        "\n",
        "# Step 1: Load and preprocess the dataset\n",
        "\n",
        "data = pd.read_csv('/content/spam.csv', encoding='latin-1')\n",
        "data = data[['v1', 'v2']]  # Assuming 'v1' is label and 'v2' is text\n",
        "\n",
        "# Renaming columns for clarity\n",
        "data.columns = ['label', 'text']\n",
        "\n",
        "# Convert labels to numerical values (0 for ham, 1 for spam)\n",
        "data['label_num'] = data['label'].map({'ham': 0, 'spam': 1})\n",
        "\n",
        "# Step 2: Feature extraction (Convert text data to numerical features)\n",
        "vectorizer = CountVectorizer()\n",
        "X = vectorizer.fit_transform(data['text'])\n",
        "\n",
        "# Step 3: Split dataset into training and testing sets\n",
        "X_train, X_test, y_train, y_test = train_test_split(X, data['label_num'], test_size=0.2, random_state=42)\n",
        "\n",
        "# Step 4: Train a Naive Bayes classifier\n",
        "classifier = MultinomialNB()\n",
        "classifier.fit(X_train, y_train)\n",
        "\n",
        "# Step 5: Predictions and Evaluation\n",
        "y_pred = classifier.predict(X_test)\n",
        "\n",
        "# Evaluate the model\n",
        "print(\"Confusion Matrix:\")\n",
        "print(confusion_matrix(y_test, y_pred))\n"
      ]
    },
    {
      "cell_type": "code",
      "source": [
        "print(\"\\nClassification Report:\")\n",
        "print(classification_report(y_test, y_pred, target_names=['ham', 'spam']))"
      ],
      "metadata": {
        "colab": {
          "base_uri": "https://localhost:8080/"
        },
        "id": "C59CPKZEZXc9",
        "outputId": "de81a333-ef93-46bc-bcd1-e3817cb0977f"
      },
      "execution_count": 11,
      "outputs": [
        {
          "output_type": "stream",
          "name": "stdout",
          "text": [
            "\n",
            "Classification Report:\n",
            "              precision    recall  f1-score   support\n",
            "\n",
            "         ham       0.99      0.99      0.99       965\n",
            "        spam       0.91      0.93      0.92       150\n",
            "\n",
            "    accuracy                           0.98      1115\n",
            "   macro avg       0.95      0.96      0.95      1115\n",
            "weighted avg       0.98      0.98      0.98      1115\n",
            "\n"
          ]
        }
      ]
    },
    {
      "cell_type": "code",
      "source": [],
      "metadata": {
        "id": "jYMBuMaLqqMh"
      },
      "execution_count": null,
      "outputs": []
    }
  ]
}